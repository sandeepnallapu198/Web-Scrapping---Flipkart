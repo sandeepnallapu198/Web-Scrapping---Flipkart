{
 "cells": [
  {
   "cell_type": "code",
   "execution_count": null,
   "id": "747b53a6",
   "metadata": {},
   "outputs": [],
   "source": [
    "from bs4 import BeautifulSoup as bs\n",
    "import requests\n",
    "import pandas as pd\n",
    "\n",
    "link = 'https://www.flipkart.com/samsung-galaxy-f22-denim-blue-64-gb/p/itmce0a6baf0d54d?pid=MOBG43UGBTGGB99V&lid=LSTMOBG43UGBTGGB99VLZACSD&marketplace=FLIPKART&q=mobiles&store=tyy%2F4io&srno=s_1_2&otracker=AS_Query_TrendingAutoSuggest_1_0_na_na_na&otracker1=AS_Query_TrendingAutoSuggest_1_0_na_na_na&fm=neo%2Fmerchandising&iid=019cb908-5844-4f1a-9a9a-27055b7118ba.MOBG43UGBTGGB99V.SEARCH&ppt=browse&ppn=browse&ssid=bvs86fmz5c0000001671249046071&qH=eb4af0bf07c16429'\n",
    "page = requests.get(link)\n",
    "page\n",
    "\n",
    "page.content\n",
    "soup = bs(page.content,'html.parser')\n",
    "print(soup.prettify)\n",
    "\n",
    "names = names=soup.find_all('p', class_=\"_2sc7ZR _2V5EHH\")\n",
    "names\n",
    "\n",
    "cust_names = []\n",
    "for i in range(len(names)):\n",
    "    cust_names.append(names[i].get_text())\n",
    "cust_names\n",
    "\n",
    "reviews = soup.find_all('p', class_=\"_2-N8zT\")\n",
    "reviews\n",
    "\n",
    "Reviews = []\n",
    "for i in range(len(reviews)):\n",
    "    Reviews.append(reviews[i].get_text())\n",
    "Reviews\n",
    "\n",
    "df = pd.DataFrame()\n",
    "\n",
    "df['NAMES'] = cust_names\n",
    "df['REVIEWS'] = Reviews\n",
    "\n",
    "df\n",
    "\n",
    "df.to_csv('E:\\Flipkart WebScrapping Project.csv',index = False)\n",
    "\n"
   ]
  }
 ],
 "metadata": {
  "kernelspec": {
   "display_name": "Python 3 (ipykernel)",
   "language": "python",
   "name": "python3"
  },
  "language_info": {
   "codemirror_mode": {
    "name": "ipython",
    "version": 3
   },
   "file_extension": ".py",
   "mimetype": "text/x-python",
   "name": "python",
   "nbconvert_exporter": "python",
   "pygments_lexer": "ipython3",
   "version": "3.9.13"
  }
 },
 "nbformat": 4,
 "nbformat_minor": 5
}
